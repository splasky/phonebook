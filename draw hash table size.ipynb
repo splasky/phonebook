{
 "cells": [
  {
   "cell_type": "code",
   "execution_count": 28,
   "metadata": {},
   "outputs": [
    {
     "name": "stdout",
     "output_type": "stream",
     "text": [
      "1000 7.471126 0.000034\r\n",
      "6000 1.359907 0.000004\r\n",
      "11000 0.771935 0.000002\r\n",
      "16000 0.513441 0.000002\r\n",
      "21000 0.404662 0.000002\r\n",
      "26000 0.340636 0.000002\r\n",
      "31000 0.297899 0.000002\r\n",
      "36000 0.267332 0.000002\r\n",
      "41000 0.245437 0.000001\r\n",
      "46000 0.227187 0.000001\r\n",
      "51000 0.211680 0.000001\r\n",
      "56000 0.199978 0.000001\r\n",
      "61000 0.189241 0.000001\r\n",
      "66000 0.180535 0.000001\r\n",
      "71000 0.172937 0.000001\r\n",
      "76000 0.166081 0.000001\r\n",
      "81000 0.160645 0.000001\r\n",
      "86000 0.154816 0.000001\r\n",
      "91000 0.150264 0.000001\r\n",
      "96000 0.146230 0.000001\r\n",
      "101000 0.142183 0.000001\r\n",
      "106000 0.140798 0.000001\r\n",
      "111000 0.137024 0.000001\r\n",
      "116000 0.133245 0.000001\r\n",
      "121000 0.130666 0.000001\r\n",
      "126000 0.128264 0.000001\r\n",
      "131000 0.126127 0.000001\r\n",
      "136000 0.124090 0.000001\r\n",
      "141000 0.122171 0.000001\r\n",
      "146000 0.120253 0.000001\r\n",
      "151000 0.120289 0.000001\r\n",
      "156000 0.116911 0.000001\r\n",
      "161000 0.115521 0.000001\r\n",
      "166000 0.114117 0.000001\r\n",
      "171000 0.113080 0.000001\r\n",
      "176000 0.111867 0.000001\r\n",
      "181000 0.110815 0.000001\r\n",
      "186000 0.109922 0.000001\r\n",
      "191000 0.108930 0.000001\r\n",
      "196000 0.108447 0.000001\r\n",
      "201000 0.107663 0.000001\r\n",
      "206000 0.106769 0.000001\r\n",
      "211000 0.106368 0.000001\r\n",
      "216000 0.106149 0.000001\r\n",
      "221000 0.105103 0.000001\r\n",
      "226000 0.104532 0.000001\r\n",
      "231000 0.104220 0.000001\r\n",
      "236000 0.104087 0.000001\r\n",
      "241000 0.103366 0.000001\r\n",
      "246000 0.102888 0.000001\r\n",
      "251000 0.102230 0.000001\r\n",
      "256000 0.101977 0.000001\r\n",
      "261000 0.101422 0.000001\r\n",
      "266000 0.101030 0.000001\r\n",
      "271000 0.100638 0.000001\r\n",
      "276000 0.100364 0.000001\r\n",
      "281000 0.100008 0.000001\r\n",
      "286000 0.099531 0.000001\r\n",
      "291000 0.099201 0.000001\r\n",
      "296000 0.098924 0.000001\r\n",
      "301000 0.098440 0.000001\r\n",
      "306000 0.103738 0.000001\r\n",
      "311000 0.102980 0.000001\r\n",
      "316000 0.100687 0.000001\r\n",
      "321000 0.101488 0.000001\r\n",
      "326000 0.099948 0.000001\r\n",
      "331000 0.099626 0.000001\r\n",
      "336000 0.099314 0.000001\r\n",
      "341000 0.099054 0.000001\r\n",
      "346000 0.098848 0.000001\r\n"
     ]
    }
   ],
   "source": [
    "!cat ./output.txt"
   ]
  },
  {
   "cell_type": "code",
   "execution_count": 29,
   "metadata": {},
   "outputs": [],
   "source": [
    "%matplotlib inline"
   ]
  },
  {
   "cell_type": "code",
   "execution_count": 30,
   "metadata": {},
   "outputs": [],
   "source": [
    "import pandas as pd\n",
    "from matplotlib import pyplot"
   ]
  },
  {
   "cell_type": "code",
   "execution_count": 31,
   "metadata": {},
   "outputs": [],
   "source": [
    "data=pd.read_table('./output.txt', sep=' ')"
   ]
  },
  {
   "cell_type": "code",
   "execution_count": 32,
   "metadata": {},
   "outputs": [
    {
     "data": {
      "text/plain": [
       "[<matplotlib.lines.Line2D at 0x7fc8bc666fd0>]"
      ]
     },
     "execution_count": 32,
     "metadata": {},
     "output_type": "execute_result"
    },
    {
     "data": {
      "image/png": "[encoded data removed]",
      "text/plain": [
       "<matplotlib.figure.Figure at 0x7fc8bc69f5f8>"
      ]
     },
     "metadata": {},
     "output_type": "display_data"
    }
   ],
   "source": [
    "pyplot.plot(data[\"hash_table_size\"],data[\"append\"])"
   ]
  },
  {
   "cell_type": "code",
   "execution_count": null,
   "metadata": {},
   "outputs": [],
   "source": []
  }
 ],
 "metadata": {
  "kernelspec": {
   "display_name": "Python 3",
   "language": "python",
   "name": "python3"
  },
  "language_info": {
   "codemirror_mode": {
    "name": "ipython",
    "version": 3
   },
   "file_extension": ".py",
   "mimetype": "text/x-python",
   "name": "python",
   "nbconvert_exporter": "python",
   "pygments_lexer": "ipython3",
   "version": "3.6.3"
  },
  "latex_envs": {
   "LaTeX_envs_menu_present": true,
   "autocomplete": true,
   "bibliofile": "biblio.bib",
   "cite_by": "apalike",
   "current_citInitial": 1,
   "eqLabelWithNumbers": true,
   "eqNumInitial": 1,
   "hotkeys": {
    "equation": "Ctrl-E",
    "itemize": "Ctrl-I"
   },
   "labels_anchors": false,
   "latex_user_defs": false,
   "report_style_numbering": false,
   "user_envs_cfg": false
  },
  "varInspector": {
   "cols": {
    "lenName": 16,
    "lenType": 16,
    "lenVar": 40
   },
   "kernels_config": {
    "python": {
     "delete_cmd_postfix": "",
     "delete_cmd_prefix": "del ",
     "library": "var_list.py",
     "varRefreshCmd": "print(var_dic_list())"
    },
    "r": {
     "delete_cmd_postfix": ") ",
     "delete_cmd_prefix": "rm(",
     "library": "var_list.r",
     "varRefreshCmd": "cat(var_dic_list()) "
    }
   },
   "types_to_exclude": [
    "module",
    "function",
    "builtin_function_or_method",
    "instance",
    "_Feature"
   ],
   "window_display": false
  }
 },
 "nbformat": 4,
 "nbformat_minor": 2
}
